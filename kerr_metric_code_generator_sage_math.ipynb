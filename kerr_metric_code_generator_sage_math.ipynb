{
 "cells": [
  {
   "cell_type": "code",
   "execution_count": 1,
   "metadata": {},
   "outputs": [
    {
     "data": {
      "text/plain": [
       "g = (-a^2*sin(y)^2/(a^2*cos(y)^2 + x^2) + (Q^2 + a^2 - rs*x + x^2)/(a^2*cos(y)^2 + x^2)) dt*dt + (a^3*sin(y)^2 + a*x^2*sin(y)^2 - (Q^2 + a^2 - rs*x + x^2)*a*sin(y)^2)/(a^2*cos(y)^2 + x^2) dt*dz - (a^2*cos(y)^2 + x^2)/(Q^2 + a^2 - rs*x + x^2) dx*dx + (-a^2*cos(y)^2 - x^2) dy*dy + (a^3*sin(y)^2 + a*x^2*sin(y)^2 - (Q^2 + a^2 - rs*x + x^2)*a*sin(y)^2)/(a^2*cos(y)^2 + x^2) dz*dt + ((Q^2 + a^2 - rs*x + x^2)*a^2*sin(y)^4 - a^4*sin(y)^2 - 2*a^2*x^2*sin(y)^2 - x^4*sin(y)^2)/(a^2*cos(y)^2 + x^2) dz*dz"
      ]
     },
     "execution_count": 1,
     "metadata": {},
     "output_type": "execute_result"
    }
   ],
   "source": [
    "reset()\n",
    "\n",
    "\n",
    "#%display latex\n",
    "\n",
    "\n",
    "M = Manifold(4, 'M',structure=\"Lorentzian\", start_index=0)\n",
    "U = M.open_subset('U')\n",
    "\n",
    "\n",
    "a=var('a')\n",
    "m=var('m')\n",
    "Q=var('Q')\n",
    "\n",
    "rs=var('rs')\n",
    "\n",
    "#a=0\n",
    "#Q=0\n",
    "#rs=0\n",
    "m=rs/2\n",
    "\n",
    "\n",
    "X.<t,x,y,z> = U.chart(r't:(-oo,+oo):t x:(-oo,+oo):r y:(0,2pi):\\theta z:(0,2pi):\\phi')  # Poincaré half-plane coord.   :(0,+oo)\n",
    "# '' elé az r azért kell mert a ph helyére \\phi-t akarunk látni latexesen\n",
    "\n",
    "#delta=var('Delta')\n",
    "#rho2=var('rho2')\n",
    "\n",
    "\n",
    "r=x\n",
    "delta=r^2-2*m*r+a^2+Q^2\n",
    "rho2=r**2+(a**2)*(cos(y)**2)\n",
    "\n",
    "g = M.metric('g')\n",
    "\n",
    "\n",
    "\n",
    "\n",
    "#g[1,1], g[2,2], g[3,3], g[4,4] = (1-1/x), -1/(1-1/x), -x^2, -x^2*sin(y)^2 \n",
    "\n",
    "#g[1,1], g[2,2], g[3,3], g[4,4] = 1-rs/(x), -1/(1-rs/(x)), -x^2, -x^2*sin(y)^2 \n",
    "\n",
    "g[0,0]=-a**2*sin(y)**2/rho2+delta/rho2\n",
    "g[1,1]=-rho2/delta\n",
    "g[2,2]=-rho2\n",
    "g[3,3]=(delta*a**2*sin(y)**4-a**4*sin(y)**2-2*a**2*r**2*sin(y)**2-r**4*sin(y)**2)/rho2\n",
    "g[0,3]=(a**3*sin(y)**2+a*r**2*sin(y)**2-delta*a*sin(y)**2)/rho2\n",
    "g[3,0]=g[0,3]\n",
    "\n",
    "\n",
    "#g[1,1], g[2,2], g[3,3] = (1-x^2), -1/(1-x^2), -x^2\n",
    "\n",
    "#g[1,1], g[2,2], g[3,3] =x^2-1, 0, -x^2\n",
    "#g[1,2]=-1\n",
    "#g[2,1]=g[1,2]\n",
    "\n",
    "dt=var('dt')\n",
    "dtheta=var('dtheta')\n",
    "dphi=var('dphi')\n",
    "dr=var('dr')\n",
    "\n",
    "ds=delta/rho2*(dt-a*sin(y)**2*dphi)**2-sin(y)**2/rho2*((r**2+a**2)*dphi-a*dt)**2-rho2/delta*dr**2-rho2*dtheta**2\n",
    "\n",
    "\n",
    "ginv = g.inverse() ; ginv\n",
    "\n",
    "g.display()"
   ]
  },
  {
   "cell_type": "code",
   "execution_count": 2,
   "metadata": {},
   "outputs": [
    {
     "data": {
      "text/plain": [
       "Q^2*a^2*dphi^2*sin(y)^4/(a^2*cos(y)^2 + x^2) + a^4*dphi^2*sin(y)^4/(a^2*cos(y)^2 + x^2) - a^2*dphi^2*rs*x*sin(y)^4/(a^2*cos(y)^2 + x^2) + a^2*dphi^2*x^2*sin(y)^4/(a^2*cos(y)^2 + x^2) - a^4*dphi^2*sin(y)^2/(a^2*cos(y)^2 + x^2) - 2*a^2*dphi^2*x^2*sin(y)^2/(a^2*cos(y)^2 + x^2) - dphi^2*x^4*sin(y)^2/(a^2*cos(y)^2 + x^2) - a^2*dtheta^2*cos(y)^2 - 2*Q^2*a*dphi*dt*sin(y)^2/(a^2*cos(y)^2 + x^2) + 2*a*dphi*dt*rs*x*sin(y)^2/(a^2*cos(y)^2 + x^2) - a^2*dr^2*cos(y)^2/(Q^2 + a^2 - rs*x + x^2) - a^2*dt^2*sin(y)^2/(a^2*cos(y)^2 + x^2) - dtheta^2*x^2 + Q^2*dt^2/(a^2*cos(y)^2 + x^2) + a^2*dt^2/(a^2*cos(y)^2 + x^2) - dt^2*rs*x/(a^2*cos(y)^2 + x^2) - dr^2*x^2/(Q^2 + a^2 - rs*x + x^2) + dt^2*x^2/(a^2*cos(y)^2 + x^2)"
      ]
     },
     "execution_count": 2,
     "metadata": {},
     "output_type": "execute_result"
    }
   ],
   "source": [
    "ds.expand()"
   ]
  },
  {
   "cell_type": "code",
   "execution_count": null,
   "metadata": {},
   "outputs": [],
   "source": []
  },
  {
   "cell_type": "code",
   "execution_count": 3,
   "metadata": {},
   "outputs": [
    {
     "data": {
      "text/plain": [
       "inv_g = -(a^4 + 2*a^2*x^2 + x^4 - (Q^2*a^2 + a^4 - a^2*rs*x + a^2*x^2)*sin(y)^2)/(rs*x^3 - x^4 - (Q^2 + a^2)*x^2 - (Q^2*a^2 + a^4 - a^2*rs*x + a^2*x^2)*cos(y)^2) d/dt*d/dt + (Q^2*a - a*rs*x)/(rs*x^3 - x^4 - (Q^2 + a^2)*x^2 - (Q^2*a^2 + a^4 - a^2*rs*x + a^2*x^2)*cos(y)^2) d/dt*d/dz - (Q^2 + a^2 - rs*x + x^2)/(a^2*cos(y)^2 + x^2) d/dx*d/dx - 1/(a^2*cos(y)^2 + x^2) d/dy*d/dy + (Q^2*a - a*rs*x)/(rs*x^3 - x^4 - (Q^2 + a^2)*x^2 - (Q^2*a^2 + a^4 - a^2*rs*x + a^2*x^2)*cos(y)^2) d/dz*d/dt - (a^4*cos(y)^4 + Q^2*x^2 - rs*x^3 + x^4 + (Q^2*a^2 - a^2*rs*x + 2*a^2*x^2)*cos(y)^2)/((Q^2*a^4 + a^6 - a^4*rs*x + a^4*x^2)*sin(y)^6 - 2*(Q^2*a^4 + a^6 - a^4*rs*x - a^2*rs*x^3 + a^2*x^4 + (Q^2*a^2 + 2*a^4)*x^2)*sin(y)^4 + (Q^2*a^4 + a^6 - a^4*rs*x - 2*a^2*rs*x^3 - rs*x^5 + x^6 + (Q^2 + 3*a^2)*x^4 + (2*Q^2*a^2 + 3*a^4)*x^2)*sin(y)^2) d/dz*d/dz"
      ]
     },
     "execution_count": 3,
     "metadata": {},
     "output_type": "execute_result"
    }
   ],
   "source": [
    "ginv.display()"
   ]
  },
  {
   "cell_type": "code",
   "execution_count": 4,
   "metadata": {},
   "outputs": [
    {
     "data": {
      "text/plain": [
       "Available calculus methods (* = current):\n",
       " - SR (default) (*)\n",
       " - sympy"
      ]
     },
     "execution_count": 4,
     "metadata": {},
     "output_type": "execute_result"
    }
   ],
   "source": [
    "eH = X.frame()\n",
    "coeH = X.coframe()\n",
    "\n",
    "\n",
    "\n",
    "g.inverse()\n",
    "#X.calculus_method().set('sympy')\n",
    "X.calculus_method()"
   ]
  },
  {
   "cell_type": "code",
   "execution_count": 5,
   "metadata": {},
   "outputs": [
    {
     "data": {
      "text/plain": [
       "sqrt((Q^2 + a^2 - rs*x + x^2)/(a^2*cos(y)^2 + x^2)) dt - a*sqrt((Q^2 + a^2 - rs*x + x^2)/(a^2*cos(y)^2 + x^2))*sin(y)^2 dz"
      ]
     },
     "execution_count": 5,
     "metadata": {},
     "output_type": "execute_result"
    }
   ],
   "source": [
    "o0 = M.tensor_field(0, 1, [sqrt(delta/rho2), 0,0,-sqrt(delta/rho2)*a*sin(y)*sin(y)])\n",
    "\n",
    "\n",
    "o0.display()\n",
    "\n"
   ]
  },
  {
   "cell_type": "code",
   "execution_count": 6,
   "metadata": {},
   "outputs": [
    {
     "data": {
      "text/plain": [
       "sqrt((a^2*cos(y)^2 + x^2)/(Q^2 + a^2 - rs*x + x^2)) dx"
      ]
     },
     "execution_count": 6,
     "metadata": {},
     "output_type": "execute_result"
    }
   ],
   "source": [
    "o1 = M.tensor_field(0, 1, [0,sqrt(rho2/delta), 0,0])\n",
    "\n",
    "o1.display()"
   ]
  },
  {
   "cell_type": "code",
   "execution_count": 7,
   "metadata": {},
   "outputs": [
    {
     "data": {
      "text/plain": [
       "sqrt(a^2*cos(y)^2 + x^2) dy"
      ]
     },
     "execution_count": 7,
     "metadata": {},
     "output_type": "execute_result"
    }
   ],
   "source": [
    "o2 = M.tensor_field(0, 1, [0, 0,sqrt(rho2),0])\n",
    "\n",
    "o2.display()"
   ]
  },
  {
   "cell_type": "code",
   "execution_count": 8,
   "metadata": {},
   "outputs": [
    {
     "data": {
      "text/plain": [
       "-a*sin(y)/sqrt(a^2*cos(y)^2 + x^2) dt + (a^2 + x^2)*sin(y)/sqrt(a^2*cos(y)^2 + x^2) dz"
      ]
     },
     "execution_count": 8,
     "metadata": {},
     "output_type": "execute_result"
    }
   ],
   "source": [
    "o3 = M.tensor_field(0, 1, [-a*sin(y)/sqrt(rho2), 0,0,sin(y)/sqrt(rho2)*(x*x+a*a)])\n",
    "\n",
    "o3.display()"
   ]
  },
  {
   "cell_type": "code",
   "execution_count": 9,
   "metadata": {},
   "outputs": [
    {
     "data": {
      "text/plain": [
       "True"
      ]
     },
     "execution_count": 9,
     "metadata": {},
     "output_type": "execute_result"
    }
   ],
   "source": [
    "od=[o0,o1,o2,o3]\n",
    "\n",
    "\n",
    "tx=od[0]*od[0]-od[1]*od[1]-od[2]*od[2]-od[3]*od[3]\n",
    "\n",
    "tx==g"
   ]
  },
  {
   "cell_type": "code",
   "execution_count": 10,
   "metadata": {},
   "outputs": [
    {
     "data": {
      "text/plain": [
       "0"
      ]
     },
     "execution_count": 10,
     "metadata": {},
     "output_type": "execute_result"
    }
   ],
   "source": [
    "(tx-g).display()"
   ]
  },
  {
   "cell_type": "code",
   "execution_count": 11,
   "metadata": {},
   "outputs": [
    {
     "data": {
      "text/plain": [
       "-sqrt(a^2*cos(y)^2 + x^2)*sqrt(Q^2 + a^2 - rs*x + x^2)*(a^2 + x^2)/(rs*x^3 - x^4 - (Q^2 + a^2)*x^2 - (Q^2*a^2 + a^4 - a^2*rs*x + a^2*x^2)*cos(y)^2) d/dt - sqrt(a^2*cos(y)^2 + x^2)*sqrt(Q^2 + a^2 - rs*x + x^2)*a/(rs*x^3 - x^4 - (Q^2 + a^2)*x^2 - (Q^2*a^2 + a^4 - a^2*rs*x + a^2*x^2)*cos(y)^2) d/dz"
      ]
     },
     "execution_count": 11,
     "metadata": {},
     "output_type": "execute_result"
    }
   ],
   "source": [
    "ed=[0,0,0,0]\n",
    "for i in range(4):\n",
    "    ed[i]=ginv['^ij']*(od[i])['_j']\n",
    "ed[0].display()"
   ]
  },
  {
   "cell_type": "code",
   "execution_count": 12,
   "metadata": {},
   "outputs": [
    {
     "data": {
      "text/plain": [
       "-sqrt(Q^2 + a^2 - rs*x + x^2)/sqrt(a^2*cos(y)^2 + x^2) d/dx"
      ]
     },
     "execution_count": 12,
     "metadata": {},
     "output_type": "execute_result"
    }
   ],
   "source": [
    "ed[1].display()"
   ]
  },
  {
   "cell_type": "code",
   "execution_count": 13,
   "metadata": {},
   "outputs": [
    {
     "data": {
      "text/plain": [
       "-1/sqrt(a^2*cos(y)^2 + x^2) d/dy"
      ]
     },
     "execution_count": 13,
     "metadata": {},
     "output_type": "execute_result"
    }
   ],
   "source": [
    "ed[2].display()"
   ]
  },
  {
   "cell_type": "code",
   "execution_count": 14,
   "metadata": {},
   "outputs": [
    {
     "data": {
      "text/plain": [
       "-a*sin(y)/sqrt(a^2*cos(y)^2 + x^2) d/dt - 1/(sqrt(a^2*cos(y)^2 + x^2)*sin(y)) d/dz"
      ]
     },
     "execution_count": 14,
     "metadata": {},
     "output_type": "execute_result"
    }
   ],
   "source": [
    "ed[3].display()"
   ]
  },
  {
   "cell_type": "code",
   "execution_count": 15,
   "metadata": {},
   "outputs": [
    {
     "data": {
      "text/plain": [
       "Levi-Civita connection nabla associated with the Lorentzian metric g on the 4-dimensional Lorentzian manifold M"
      ]
     },
     "execution_count": 15,
     "metadata": {},
     "output_type": "execute_result"
    }
   ],
   "source": [
    "\n",
    "nab = g.connection(name='nabla', latex_name=r'\\nabla'); nab\n"
   ]
  },
  {
   "cell_type": "code",
   "execution_count": 16,
   "metadata": {},
   "outputs": [
    {
     "data": {
      "text/plain": [
       "Tensor field nabla(g) of type (0,3) on the 4-dimensional Lorentzian manifold M"
      ]
     },
     "execution_count": 16,
     "metadata": {},
     "output_type": "execute_result"
    }
   ],
   "source": [
    "Dg = nab(g) ; Dg"
   ]
  },
  {
   "cell_type": "code",
   "execution_count": 17,
   "metadata": {},
   "outputs": [
    {
     "data": {
      "text/plain": [
       "True"
      ]
     },
     "execution_count": 17,
     "metadata": {},
     "output_type": "execute_result"
    }
   ],
   "source": [
    "Dg == 0"
   ]
  },
  {
   "cell_type": "code",
   "execution_count": 18,
   "metadata": {},
   "outputs": [
    {
     "data": {
      "text/plain": [
       "True"
      ]
     },
     "execution_count": 18,
     "metadata": {},
     "output_type": "execute_result"
    }
   ],
   "source": [
    "nab.torsion() == 0"
   ]
  },
  {
   "cell_type": "code",
   "execution_count": 19,
   "metadata": {},
   "outputs": [
    {
     "data": {
      "text/plain": [
       "nabla(g) = 0"
      ]
     },
     "execution_count": 19,
     "metadata": {},
     "output_type": "execute_result"
    }
   ],
   "source": [
    "Dg.display()"
   ]
  },
  {
   "cell_type": "code",
   "execution_count": 20,
   "metadata": {},
   "outputs": [
    {
     "data": {
      "text/plain": [
       "0"
      ]
     },
     "execution_count": 20,
     "metadata": {},
     "output_type": "execute_result"
    }
   ],
   "source": [
    "(nab.torsion()).display()"
   ]
  },
  {
   "cell_type": "code",
   "execution_count": 21,
   "metadata": {},
   "outputs": [
    {
     "data": {
      "text/plain": [
       "3-indices components w.r.t. Coordinate frame (U, (d/dt,d/dx,d/dy,d/dz)), with symmetry on the index positions (1, 2)"
      ]
     },
     "execution_count": 21,
     "metadata": {},
     "output_type": "execute_result"
    }
   ],
   "source": [
    "nab.coef()"
   ]
  },
  {
   "cell_type": "code",
   "execution_count": 22,
   "metadata": {},
   "outputs": [
    {
     "data": {
      "text/plain": [
       "\\begin{array}{lcl} \\Gamma_{ \\phantom{\\, {t}} \\, {t} \\, {r} }^{ \\, {t} \\phantom{\\, {t}} \\phantom{\\, {r}} } & = & \\frac{a^{4} \\mathit{rs} + 2 \\, Q^{2} a^{2} {r} + 2 \\, Q^{2} {r}^{3} - \\mathit{rs} {r}^{4} - {\\left(a^{4} \\mathit{rs} + a^{2} \\mathit{rs} {r}^{2}\\right)} \\sin\\left({\\theta}\\right)^{2}}{2 \\, {\\left(\\mathit{rs} {r}^{5} - {r}^{6} - {\\left(Q^{2} + a^{2}\\right)} {r}^{4} - {\\left(Q^{2} a^{4} + a^{6} - a^{4} \\mathit{rs} {r} + a^{4} {r}^{2}\\right)} \\cos\\left({\\theta}\\right)^{4} + 2 \\, {\\left(a^{2} \\mathit{rs} {r}^{3} - a^{2} {r}^{4} - {\\left(Q^{2} a^{2} + a^{4}\\right)} {r}^{2}\\right)} \\cos\\left({\\theta}\\right)^{2}\\right)}} \\\\ \\Gamma_{ \\phantom{\\, {t}} \\, {t} \\, {\\theta} }^{ \\, {t} \\phantom{\\, {t}} \\phantom{\\, {\\theta}} } & = & \\frac{{\\left(Q^{2} a^{2} - a^{2} \\mathit{rs} {r}\\right)} \\cos\\left({\\theta}\\right) \\sin\\left({\\theta}\\right)}{a^{4} \\cos\\left({\\theta}\\right)^{4} + 2 \\, a^{2} {r}^{2} \\cos\\left({\\theta}\\right)^{2} + {r}^{4}} \\\\ \\Gamma_{ \\phantom{\\, {t}} \\, {r} \\, {t} }^{ \\, {t} \\phantom{\\, {r}} \\phantom{\\, {t}} } & = & \\frac{a^{4} \\mathit{rs} + 2 \\, Q^{2} a^{2} {r} + 2 \\, Q^{2} {r}^{3} - \\mathit{rs} {r}^{4} - {\\left(a^{4} \\mathit{rs} + a^{2} \\mathit{rs} {r}^{2}\\right)} \\sin\\left({\\theta}\\right)^{2}}{2 \\, {\\left(\\mathit{rs} {r}^{5} - {r}^{6} - {\\left(Q^{2} + a^{2}\\right)} {r}^{4} - {\\left(Q^{2} a^{4} + a^{6} - a^{4} \\mathit{rs} {r} + a^{4} {r}^{2}\\right)} \\cos\\left({\\theta}\\right)^{4} + 2 \\, {\\left(a^{2} \\mathit{rs} {r}^{3} - a^{2} {r}^{4} - {\\left(Q^{2} a^{2} + a^{4}\\right)} {r}^{2}\\right)} \\cos\\left({\\theta}\\right)^{2}\\right)}} \\\\ \\Gamma_{ \\phantom{\\, {t}} \\, {r} \\, {\\phi} }^{ \\, {t} \\phantom{\\, {r}} \\phantom{\\, {\\phi}} } & = & -\\frac{2 \\, Q^{2} a^{3} {r} - a^{3} \\mathit{rs} {r}^{2} + 4 \\, Q^{2} a {r}^{3} - 3 \\, a \\mathit{rs} {r}^{4} - {\\left(a^{5} \\mathit{rs} + 2 \\, Q^{2} a^{3} {r} - a^{3} \\mathit{rs} {r}^{2}\\right)} \\cos\\left({\\theta}\\right)^{4} + {\\left(a^{5} \\mathit{rs} - 4 \\, Q^{2} a {r}^{3} + 3 \\, a \\mathit{rs} {r}^{4}\\right)} \\cos\\left({\\theta}\\right)^{2}}{2 \\, {\\left(\\mathit{rs} {r}^{5} - {r}^{6} - {\\left(Q^{2} + a^{2}\\right)} {r}^{4} - {\\left(Q^{2} a^{4} + a^{6} - a^{4} \\mathit{rs} {r} + a^{4} {r}^{2}\\right)} \\cos\\left({\\theta}\\right)^{4} + 2 \\, {\\left(a^{2} \\mathit{rs} {r}^{3} - a^{2} {r}^{4} - {\\left(Q^{2} a^{2} + a^{4}\\right)} {r}^{2}\\right)} \\cos\\left({\\theta}\\right)^{2}\\right)}} \\\\ \\Gamma_{ \\phantom{\\, {t}} \\, {\\theta} \\, {t} }^{ \\, {t} \\phantom{\\, {\\theta}} \\phantom{\\, {t}} } & = & \\frac{{\\left(Q^{2} a^{2} - a^{2} \\mathit{rs} {r}\\right)} \\cos\\left({\\theta}\\right) \\sin\\left({\\theta}\\right)}{a^{4} \\cos\\left({\\theta}\\right)^{4} + 2 \\, a^{2} {r}^{2} \\cos\\left({\\theta}\\right)^{2} + {r}^{4}} \\\\ \\Gamma_{ \\phantom{\\, {t}} \\, {\\theta} \\, {\\phi} }^{ \\, {t} \\phantom{\\, {\\theta}} \\phantom{\\, {\\phi}} } & = & \\frac{{\\left(Q^{2} a^{5} - a^{5} \\mathit{rs} {r}\\right)} \\cos\\left({\\theta}\\right) \\sin\\left({\\theta}\\right)^{5} - {\\left(Q^{2} a^{5} - a^{5} \\mathit{rs} {r} + Q^{2} a^{3} {r}^{2} - a^{3} \\mathit{rs} {r}^{3}\\right)} \\cos\\left({\\theta}\\right) \\sin\\left({\\theta}\\right)^{3}}{a^{6} \\cos\\left({\\theta}\\right)^{6} + 3 \\, a^{4} {r}^{2} \\cos\\left({\\theta}\\right)^{4} + 3 \\, a^{2} {r}^{4} \\cos\\left({\\theta}\\right)^{2} + {r}^{6}} \\\\ \\Gamma_{ \\phantom{\\, {t}} \\, {\\phi} \\, {r} }^{ \\, {t} \\phantom{\\, {\\phi}} \\phantom{\\, {r}} } & = & -\\frac{2 \\, Q^{2} a^{3} {r} - a^{3} \\mathit{rs} {r}^{2} + 4 \\, Q^{2} a {r}^{3} - 3 \\, a \\mathit{rs} {r}^{4} - {\\left(a^{5} \\mathit{rs} + 2 \\, Q^{2} a^{3} {r} - a^{3} \\mathit{rs} {r}^{2}\\right)} \\cos\\left({\\theta}\\right)^{4} + {\\left(a^{5} \\mathit{rs} - 4 \\, Q^{2} a {r}^{3} + 3 \\, a \\mathit{rs} {r}^{4}\\right)} \\cos\\left({\\theta}\\right)^{2}}{2 \\, {\\left(\\mathit{rs} {r}^{5} - {r}^{6} - {\\left(Q^{2} + a^{2}\\right)} {r}^{4} - {\\left(Q^{2} a^{4} + a^{6} - a^{4} \\mathit{rs} {r} + a^{4} {r}^{2}\\right)} \\cos\\left({\\theta}\\right)^{4} + 2 \\, {\\left(a^{2} \\mathit{rs} {r}^{3} - a^{2} {r}^{4} - {\\left(Q^{2} a^{2} + a^{4}\\right)} {r}^{2}\\right)} \\cos\\left({\\theta}\\right)^{2}\\right)}} \\\\ \\Gamma_{ \\phantom{\\, {t}} \\, {\\phi} \\, {\\theta} }^{ \\, {t} \\phantom{\\, {\\phi}} \\phantom{\\, {\\theta}} } & = & \\frac{{\\left(Q^{2} a^{5} - a^{5} \\mathit{rs} {r}\\right)} \\cos\\left({\\theta}\\right) \\sin\\left({\\theta}\\right)^{5} - {\\left(Q^{2} a^{5} - a^{5} \\mathit{rs} {r} + Q^{2} a^{3} {r}^{2} - a^{3} \\mathit{rs} {r}^{3}\\right)} \\cos\\left({\\theta}\\right) \\sin\\left({\\theta}\\right)^{3}}{a^{6} \\cos\\left({\\theta}\\right)^{6} + 3 \\, a^{4} {r}^{2} \\cos\\left({\\theta}\\right)^{4} + 3 \\, a^{2} {r}^{4} \\cos\\left({\\theta}\\right)^{2} + {r}^{6}} \\\\ \\Gamma_{ \\phantom{\\, {r}} \\, {t} \\, {t} }^{ \\, {r} \\phantom{\\, {t}} \\phantom{\\, {t}} } & = & \\frac{\\mathit{rs} {r}^{4} + {\\left(3 \\, Q^{2} + a^{2}\\right)} \\mathit{rs} {r}^{2} - {\\left(2 \\, Q^{2} + \\mathit{rs}^{2}\\right)} {r}^{3} + {\\left(a^{2} \\mathit{rs}^{2} {r} - a^{2} \\mathit{rs} {r}^{2} - {\\left(Q^{2} a^{2} + a^{4}\\right)} \\mathit{rs}\\right)} \\cos\\left({\\theta}\\right)^{2} - 2 \\, {\\left(Q^{4} + Q^{2} a^{2}\\right)} {r}}{2 \\, {\\left(a^{6} \\cos\\left({\\theta}\\right)^{6} + 3 \\, a^{4} {r}^{2} \\cos\\left({\\theta}\\right)^{4} + 3 \\, a^{2} {r}^{4} \\cos\\left({\\theta}\\right)^{2} + {r}^{6}\\right)}} \\\\ \\Gamma_{ \\phantom{\\, {r}} \\, {t} \\, {\\phi} }^{ \\, {r} \\phantom{\\, {t}} \\phantom{\\, {\\phi}} } & = & -\\frac{{\\left(a \\mathit{rs} {r}^{4} + {\\left(3 \\, Q^{2} a + a^{3}\\right)} \\mathit{rs} {r}^{2} - {\\left(2 \\, Q^{2} a + a \\mathit{rs}^{2}\\right)} {r}^{3} + {\\left(a^{3} \\mathit{rs}^{2} {r} - a^{3} \\mathit{rs} {r}^{2} - {\\left(Q^{2} a^{3} + a^{5}\\right)} \\mathit{rs}\\right)} \\cos\\left({\\theta}\\right)^{2} - 2 \\, {\\left(Q^{4} a + Q^{2} a^{3}\\right)} {r}\\right)} \\sin\\left({\\theta}\\right)^{2}}{2 \\, {\\left(a^{6} \\cos\\left({\\theta}\\right)^{6} + 3 \\, a^{4} {r}^{2} \\cos\\left({\\theta}\\right)^{4} + 3 \\, a^{2} {r}^{4} \\cos\\left({\\theta}\\right)^{2} + {r}^{6}\\right)}} \\\\ \\Gamma_{ \\phantom{\\, {r}} \\, {r} \\, {r} }^{ \\, {r} \\phantom{\\, {r}} \\phantom{\\, {r}} } & = & -\\frac{a^{2} \\mathit{rs} + 2 \\, Q^{2} {r} - \\mathit{rs} {r}^{2} - {\\left(a^{2} \\mathit{rs} - 2 \\, a^{2} {r}\\right)} \\sin\\left({\\theta}\\right)^{2}}{2 \\, {\\left(\\mathit{rs} {r}^{3} - {r}^{4} - {\\left(Q^{2} + a^{2}\\right)} {r}^{2} - {\\left(Q^{2} a^{2} + a^{4} - a^{2} \\mathit{rs} {r} + a^{2} {r}^{2}\\right)} \\cos\\left({\\theta}\\right)^{2}\\right)}} \\\\ \\Gamma_{ \\phantom{\\, {r}} \\, {r} \\, {\\theta} }^{ \\, {r} \\phantom{\\, {r}} \\phantom{\\, {\\theta}} } & = & -\\frac{a^{2} \\cos\\left({\\theta}\\right) \\sin\\left({\\theta}\\right)}{a^{2} \\cos\\left({\\theta}\\right)^{2} + {r}^{2}} \\\\ \\Gamma_{ \\phantom{\\, {r}} \\, {\\theta} \\, {r} }^{ \\, {r} \\phantom{\\, {\\theta}} \\phantom{\\, {r}} } & = & -\\frac{a^{2} \\cos\\left({\\theta}\\right) \\sin\\left({\\theta}\\right)}{a^{2} \\cos\\left({\\theta}\\right)^{2} + {r}^{2}} \\\\ \\Gamma_{ \\phantom{\\, {r}} \\, {\\theta} \\, {\\theta} }^{ \\, {r} \\phantom{\\, {\\theta}} \\phantom{\\, {\\theta}} } & = & \\frac{\\mathit{rs} {r}^{2} - {r}^{3} - {\\left(Q^{2} + a^{2}\\right)} {r}}{a^{2} \\cos\\left({\\theta}\\right)^{2} + {r}^{2}} \\\\ \\Gamma_{ \\phantom{\\, {r}} \\, {\\phi} \\, {t} }^{ \\, {r} \\phantom{\\, {\\phi}} \\phantom{\\, {t}} } & = & -\\frac{{\\left(a \\mathit{rs} {r}^{4} + {\\left(3 \\, Q^{2} a + a^{3}\\right)} \\mathit{rs} {r}^{2} - {\\left(2 \\, Q^{2} a + a \\mathit{rs}^{2}\\right)} {r}^{3} + {\\left(a^{3} \\mathit{rs}^{2} {r} - a^{3} \\mathit{rs} {r}^{2} - {\\left(Q^{2} a^{3} + a^{5}\\right)} \\mathit{rs}\\right)} \\cos\\left({\\theta}\\right)^{2} - 2 \\, {\\left(Q^{4} a + Q^{2} a^{3}\\right)} {r}\\right)} \\sin\\left({\\theta}\\right)^{2}}{2 \\, {\\left(a^{6} \\cos\\left({\\theta}\\right)^{6} + 3 \\, a^{4} {r}^{2} \\cos\\left({\\theta}\\right)^{4} + 3 \\, a^{2} {r}^{4} \\cos\\left({\\theta}\\right)^{2} + {r}^{6}\\right)}} \\\\ \\Gamma_{ \\phantom{\\, {r}} \\, {\\phi} \\, {\\phi} }^{ \\, {r} \\phantom{\\, {\\phi}} \\phantom{\\, {\\phi}} } & = & \\frac{{\\left(3 \\, a^{4} \\mathit{rs} {r}^{2} - 2 \\, a^{4} {r}^{3} + {\\left(Q^{2} a^{4} + a^{6}\\right)} \\mathit{rs} - {\\left(2 \\, Q^{2} a^{4} + 2 \\, a^{6} + a^{4} \\mathit{rs}^{2}\\right)} {r}\\right)} \\sin\\left({\\theta}\\right)^{6} - {\\left(3 \\, a^{2} \\mathit{rs} {r}^{4} - 4 \\, a^{2} {r}^{5} - {\\left(3 \\, Q^{2} a^{2} - 4 \\, a^{4}\\right)} \\mathit{rs} {r}^{2} - {\\left(2 \\, Q^{2} a^{2} + 8 \\, a^{4} - a^{2} \\mathit{rs}^{2}\\right)} {r}^{3} + {\\left(Q^{2} a^{4} + a^{6}\\right)} \\mathit{rs} + {\\left(2 \\, Q^{4} a^{2} - 2 \\, Q^{2} a^{4} - 4 \\, a^{6} - a^{4} \\mathit{rs}^{2}\\right)} {r}\\right)} \\sin\\left({\\theta}\\right)^{4} + 2 \\, {\\left(a^{4} \\mathit{rs} {r}^{2} + 2 \\, a^{2} \\mathit{rs} {r}^{4} + \\mathit{rs} {r}^{6} - {r}^{7} - {\\left(Q^{2} + 3 \\, a^{2}\\right)} {r}^{5} - {\\left(2 \\, Q^{2} a^{2} + 3 \\, a^{4}\\right)} {r}^{3} - {\\left(Q^{2} a^{4} + a^{6}\\right)} {r}\\right)} \\sin\\left({\\theta}\\right)^{2}}{2 \\, {\\left(a^{6} \\cos\\left({\\theta}\\right)^{6} + 3 \\, a^{4} {r}^{2} \\cos\\left({\\theta}\\right)^{4} + 3 \\, a^{2} {r}^{4} \\cos\\left({\\theta}\\right)^{2} + {r}^{6}\\right)}} \\\\ \\Gamma_{ \\phantom{\\, {\\theta}} \\, {t} \\, {t} }^{ \\, {\\theta} \\phantom{\\, {t}} \\phantom{\\, {t}} } & = & \\frac{{\\left(Q^{2} a^{2} - a^{2} \\mathit{rs} {r}\\right)} \\cos\\left({\\theta}\\right) \\sin\\left({\\theta}\\right)}{a^{6} \\cos\\left({\\theta}\\right)^{6} + 3 \\, a^{4} {r}^{2} \\cos\\left({\\theta}\\right)^{4} + 3 \\, a^{2} {r}^{4} \\cos\\left({\\theta}\\right)^{2} + {r}^{6}} \\\\ \\Gamma_{ \\phantom{\\, {\\theta}} \\, {t} \\, {\\phi} }^{ \\, {\\theta} \\phantom{\\, {t}} \\phantom{\\, {\\phi}} } & = & -\\frac{{\\left(Q^{2} a^{3} - a^{3} \\mathit{rs} {r} + Q^{2} a {r}^{2} - a \\mathit{rs} {r}^{3}\\right)} \\cos\\left({\\theta}\\right) \\sin\\left({\\theta}\\right)}{a^{6} \\cos\\left({\\theta}\\right)^{6} + 3 \\, a^{4} {r}^{2} \\cos\\left({\\theta}\\right)^{4} + 3 \\, a^{2} {r}^{4} \\cos\\left({\\theta}\\right)^{2} + {r}^{6}} \\\\ \\Gamma_{ \\phantom{\\, {\\theta}} \\, {r} \\, {r} }^{ \\, {\\theta} \\phantom{\\, {r}} \\phantom{\\, {r}} } & = & -\\frac{a^{2} \\cos\\left({\\theta}\\right) \\sin\\left({\\theta}\\right)}{\\mathit{rs} {r}^{3} - {r}^{4} - {\\left(Q^{2} + a^{2}\\right)} {r}^{2} - {\\left(Q^{2} a^{2} + a^{4} - a^{2} \\mathit{rs} {r} + a^{2} {r}^{2}\\right)} \\cos\\left({\\theta}\\right)^{2}} \\\\ \\Gamma_{ \\phantom{\\, {\\theta}} \\, {r} \\, {\\theta} }^{ \\, {\\theta} \\phantom{\\, {r}} \\phantom{\\, {\\theta}} } & = & \\frac{{r}}{a^{2} \\cos\\left({\\theta}\\right)^{2} + {r}^{2}} \\\\ \\Gamma_{ \\phantom{\\, {\\theta}} \\, {\\theta} \\, {r} }^{ \\, {\\theta} \\phantom{\\, {\\theta}} \\phantom{\\, {r}} } & = & \\frac{{r}}{a^{2} \\cos\\left({\\theta}\\right)^{2} + {r}^{2}} \\\\ \\Gamma_{ \\phantom{\\, {\\theta}} \\, {\\theta} \\, {\\theta} }^{ \\, {\\theta} \\phantom{\\, {\\theta}} \\phantom{\\, {\\theta}} } & = & -\\frac{a^{2} \\cos\\left({\\theta}\\right) \\sin\\left({\\theta}\\right)}{a^{2} \\cos\\left({\\theta}\\right)^{2} + {r}^{2}} \\\\ \\Gamma_{ \\phantom{\\, {\\theta}} \\, {\\phi} \\, {t} }^{ \\, {\\theta} \\phantom{\\, {\\phi}} \\phantom{\\, {t}} } & = & -\\frac{{\\left(Q^{2} a^{3} - a^{3} \\mathit{rs} {r} + Q^{2} a {r}^{2} - a \\mathit{rs} {r}^{3}\\right)} \\cos\\left({\\theta}\\right) \\sin\\left({\\theta}\\right)}{a^{6} \\cos\\left({\\theta}\\right)^{6} + 3 \\, a^{4} {r}^{2} \\cos\\left({\\theta}\\right)^{4} + 3 \\, a^{2} {r}^{4} \\cos\\left({\\theta}\\right)^{2} + {r}^{6}} \\\\ \\Gamma_{ \\phantom{\\, {\\theta}} \\, {\\phi} \\, {\\phi} }^{ \\, {\\theta} \\phantom{\\, {\\phi}} \\phantom{\\, {\\phi}} } & = & -\\frac{{\\left({\\left(Q^{2} a^{4} + a^{6} - a^{4} \\mathit{rs} {r} + a^{4} {r}^{2}\\right)} \\cos\\left({\\theta}\\right)^{5} - 2 \\, {\\left(a^{2} \\mathit{rs} {r}^{3} - a^{2} {r}^{4} - {\\left(Q^{2} a^{2} + a^{4}\\right)} {r}^{2}\\right)} \\cos\\left({\\theta}\\right)^{3} - {\\left(Q^{2} a^{4} - a^{4} \\mathit{rs} {r} + 2 \\, Q^{2} a^{2} {r}^{2} - 2 \\, a^{2} \\mathit{rs} {r}^{3} - a^{2} {r}^{4} - {r}^{6}\\right)} \\cos\\left({\\theta}\\right)\\right)} \\sin\\left({\\theta}\\right)}{a^{6} \\cos\\left({\\theta}\\right)^{6} + 3 \\, a^{4} {r}^{2} \\cos\\left({\\theta}\\right)^{4} + 3 \\, a^{2} {r}^{4} \\cos\\left({\\theta}\\right)^{2} + {r}^{6}} \\\\ \\Gamma_{ \\phantom{\\, {\\phi}} \\, {t} \\, {r} }^{ \\, {\\phi} \\phantom{\\, {t}} \\phantom{\\, {r}} } & = & \\frac{a^{3} \\mathit{rs} \\cos\\left({\\theta}\\right)^{2} + 2 \\, Q^{2} a {r} - a \\mathit{rs} {r}^{2}}{2 \\, {\\left(\\mathit{rs} {r}^{5} - {r}^{6} - {\\left(Q^{2} + a^{2}\\right)} {r}^{4} - {\\left(Q^{2} a^{4} + a^{6} - a^{4} \\mathit{rs} {r} + a^{4} {r}^{2}\\right)} \\cos\\left({\\theta}\\right)^{4} + 2 \\, {\\left(a^{2} \\mathit{rs} {r}^{3} - a^{2} {r}^{4} - {\\left(Q^{2} a^{2} + a^{4}\\right)} {r}^{2}\\right)} \\cos\\left({\\theta}\\right)^{2}\\right)}} \\\\ \\Gamma_{ \\phantom{\\, {\\phi}} \\, {t} \\, {\\theta} }^{ \\, {\\phi} \\phantom{\\, {t}} \\phantom{\\, {\\theta}} } & = & \\frac{{\\left(Q^{2} a - a \\mathit{rs} {r}\\right)} \\cos\\left({\\theta}\\right)}{{\\left(a^{4} \\cos\\left({\\theta}\\right)^{4} + 2 \\, a^{2} {r}^{2} \\cos\\left({\\theta}\\right)^{2} + {r}^{4}\\right)} \\sin\\left({\\theta}\\right)} \\\\ \\Gamma_{ \\phantom{\\, {\\phi}} \\, {r} \\, {t} }^{ \\, {\\phi} \\phantom{\\, {r}} \\phantom{\\, {t}} } & = & \\frac{a^{3} \\mathit{rs} \\cos\\left({\\theta}\\right)^{2} + 2 \\, Q^{2} a {r} - a \\mathit{rs} {r}^{2}}{2 \\, {\\left(\\mathit{rs} {r}^{5} - {r}^{6} - {\\left(Q^{2} + a^{2}\\right)} {r}^{4} - {\\left(Q^{2} a^{4} + a^{6} - a^{4} \\mathit{rs} {r} + a^{4} {r}^{2}\\right)} \\cos\\left({\\theta}\\right)^{4} + 2 \\, {\\left(a^{2} \\mathit{rs} {r}^{3} - a^{2} {r}^{4} - {\\left(Q^{2} a^{2} + a^{4}\\right)} {r}^{2}\\right)} \\cos\\left({\\theta}\\right)^{2}\\right)}} \\\\ \\Gamma_{ \\phantom{\\, {\\phi}} \\, {r} \\, {\\phi} }^{ \\, {\\phi} \\phantom{\\, {r}} \\phantom{\\, {\\phi}} } & = & -\\frac{2 \\, Q^{2} a^{2} {r} - a^{2} \\mathit{rs} {r}^{2} + 2 \\, Q^{2} {r}^{3} - 2 \\, \\mathit{rs} {r}^{4} + 2 \\, {r}^{5} - {\\left(a^{4} \\mathit{rs} - 2 \\, a^{4} {r}\\right)} \\cos\\left({\\theta}\\right)^{4} + {\\left(a^{4} \\mathit{rs} - a^{2} \\mathit{rs} {r}^{2} + 4 \\, a^{2} {r}^{3}\\right)} \\cos\\left({\\theta}\\right)^{2}}{2 \\, {\\left(\\mathit{rs} {r}^{5} - {r}^{6} - {\\left(Q^{2} + a^{2}\\right)} {r}^{4} - {\\left(Q^{2} a^{4} + a^{6} - a^{4} \\mathit{rs} {r} + a^{4} {r}^{2}\\right)} \\cos\\left({\\theta}\\right)^{4} + 2 \\, {\\left(a^{2} \\mathit{rs} {r}^{3} - a^{2} {r}^{4} - {\\left(Q^{2} a^{2} + a^{4}\\right)} {r}^{2}\\right)} \\cos\\left({\\theta}\\right)^{2}\\right)}} \\\\ \\Gamma_{ \\phantom{\\, {\\phi}} \\, {\\theta} \\, {t} }^{ \\, {\\phi} \\phantom{\\, {\\theta}} \\phantom{\\, {t}} } & = & \\frac{{\\left(Q^{2} a - a \\mathit{rs} {r}\\right)} \\cos\\left({\\theta}\\right)}{{\\left(a^{4} \\cos\\left({\\theta}\\right)^{4} + 2 \\, a^{2} {r}^{2} \\cos\\left({\\theta}\\right)^{2} + {r}^{4}\\right)} \\sin\\left({\\theta}\\right)} \\\\ \\Gamma_{ \\phantom{\\, {\\phi}} \\, {\\theta} \\, {\\phi} }^{ \\, {\\phi} \\phantom{\\, {\\theta}} \\phantom{\\, {\\phi}} } & = & \\frac{a^{4} \\cos\\left({\\theta}\\right) \\sin\\left({\\theta}\\right)^{4} - {\\left(Q^{2} a^{2} + 2 \\, a^{4} - a^{2} \\mathit{rs} {r} + 2 \\, a^{2} {r}^{2}\\right)} \\cos\\left({\\theta}\\right) \\sin\\left({\\theta}\\right)^{2} + {\\left(a^{4} + 2 \\, a^{2} {r}^{2} + {r}^{4}\\right)} \\cos\\left({\\theta}\\right)}{{\\left(a^{4} \\cos\\left({\\theta}\\right)^{4} + 2 \\, a^{2} {r}^{2} \\cos\\left({\\theta}\\right)^{2} + {r}^{4}\\right)} \\sin\\left({\\theta}\\right)} \\\\ \\Gamma_{ \\phantom{\\, {\\phi}} \\, {\\phi} \\, {r} }^{ \\, {\\phi} \\phantom{\\, {\\phi}} \\phantom{\\, {r}} } & = & -\\frac{2 \\, Q^{2} a^{2} {r} - a^{2} \\mathit{rs} {r}^{2} + 2 \\, Q^{2} {r}^{3} - 2 \\, \\mathit{rs} {r}^{4} + 2 \\, {r}^{5} - {\\left(a^{4} \\mathit{rs} - 2 \\, a^{4} {r}\\right)} \\cos\\left({\\theta}\\right)^{4} + {\\left(a^{4} \\mathit{rs} - a^{2} \\mathit{rs} {r}^{2} + 4 \\, a^{2} {r}^{3}\\right)} \\cos\\left({\\theta}\\right)^{2}}{2 \\, {\\left(\\mathit{rs} {r}^{5} - {r}^{6} - {\\left(Q^{2} + a^{2}\\right)} {r}^{4} - {\\left(Q^{2} a^{4} + a^{6} - a^{4} \\mathit{rs} {r} + a^{4} {r}^{2}\\right)} \\cos\\left({\\theta}\\right)^{4} + 2 \\, {\\left(a^{2} \\mathit{rs} {r}^{3} - a^{2} {r}^{4} - {\\left(Q^{2} a^{2} + a^{4}\\right)} {r}^{2}\\right)} \\cos\\left({\\theta}\\right)^{2}\\right)}} \\\\ \\Gamma_{ \\phantom{\\, {\\phi}} \\, {\\phi} \\, {\\theta} }^{ \\, {\\phi} \\phantom{\\, {\\phi}} \\phantom{\\, {\\theta}} } & = & \\frac{a^{4} \\cos\\left({\\theta}\\right) \\sin\\left({\\theta}\\right)^{4} - {\\left(Q^{2} a^{2} + 2 \\, a^{4} - a^{2} \\mathit{rs} {r} + 2 \\, a^{2} {r}^{2}\\right)} \\cos\\left({\\theta}\\right) \\sin\\left({\\theta}\\right)^{2} + {\\left(a^{4} + 2 \\, a^{2} {r}^{2} + {r}^{4}\\right)} \\cos\\left({\\theta}\\right)}{{\\left(a^{4} \\cos\\left({\\theta}\\right)^{4} + 2 \\, a^{2} {r}^{2} \\cos\\left({\\theta}\\right)^{2} + {r}^{4}\\right)} \\sin\\left({\\theta}\\right)} \\end{array}"
      ]
     },
     "execution_count": 22,
     "metadata": {},
     "output_type": "execute_result"
    }
   ],
   "source": [
    "latex(nab.display()) #Csak a nem nulla elemeket írja ki a Christoffel syboloknak"
   ]
  },
  {
   "cell_type": "code",
   "execution_count": 23,
   "metadata": {},
   "outputs": [],
   "source": [
    "gam=nab.coef()\n",
    "\n",
    "\"\"\"for i in range(4):\n",
    "    for j in range(4):\n",
    "        for k in range(4):\n",
    "            if gam[i,j,k]!=0:\n",
    "                gam[i,j,k]=simplify(gam[i,j,k])\"\"\"\n",
    "\n",
    "dx=[0,0,0,0]\n",
    "\n",
    "x0=var(\"x0\")\n",
    "x1=var(\"x1\")\n",
    "x2=var(\"x2\")\n",
    "x3=var(\"x3\")\n",
    "\n",
    "v0=var(\"v0\")\n",
    "v1=var(\"v1\")\n",
    "v2=var(\"v2\")\n",
    "v3=var(\"v3\")\n",
    "\n",
    "vx=[v0,v1,v2,v3]\n",
    "\n",
    "for i in range(4):\n",
    "    for j in range(4):\n",
    "        for k in range(4):\n",
    "            dx[i]-=gam[i,j,k]*vx[j]*vx[k]\n",
    "            \n",
    "    dx[i]=dx[i].expr('sympy')\n",
    "    #print(type(dx[i]),type(simplify(dx[i])))"
   ]
  },
  {
   "cell_type": "code",
   "execution_count": null,
   "metadata": {},
   "outputs": [
    {
     "data": {
      "text/plain": [
       "-(2*(rs*x1^3 - (Q^2 + a^2)*Q^2 + (2*Q^2 + a^2)*rs*x1 - (Q^2 + rs^2)*x1^2)*a^3*v2*v3*cos(x2)*sin(x2)^3 - (a^2*rs + 2*Q^2*x1 - rs*x1^2)*a^3*v1*v3*sin(x2)^4 - a^4*rs*v0*v1 - 2*Q^2*a^2*v0*v1*x1 - 2*Q^2*v0*v1*x1^3 + rs*v0*v1*x1^4 - (rs*x1^3 - (Q^2 + a^2)*Q^2 + (2*Q^2 + a^2)*rs*x1 - (Q^2 + rs^2)*x1^2)*a^2*v0*v2*sin(2*x2) + (a^4*rs*v3 + 4*Q^2*a^2*v3*x1 + 4*Q^2*v3*x1^3 - 3*rs*v3*x1^4 + a^3*rs*v0 - (2*a*v3 - v0)*a*rs*x1^2)*a*v1*sin(x2)^2)/((a^2*cos(x2)^2 + x1^2)^2*(Q^2 + a^2 - rs*x1 + x1^2))"
      ]
     },
     "metadata": {},
     "output_type": "display_data"
    },
    {
     "name": "stdout",
     "output_type": "stream",
     "text": [
      "<class 'sympy.core.mul.Mul'>\n",
      "\n",
      "\n"
     ]
    },
    {
     "data": {
      "text/plain": [
       "-1/4*(2*(5*rs*x1^4 - 2*x1^5 + (6*Q^2 + 6*a^2 + rs^2)*rs*x1^2 - 4*(Q^2 + a^2 + rs^2)*x1^3 + (Q^4 + 2*Q^2*a^2 + a^4)*rs - 2*(Q^4 + 2*Q^2*a^2 + a^4 + (Q^2 + a^2)*rs^2)*x1)*a^4*v3^2*sin(x2)^6 + 8*rs*v2^2*x1^8 - 4*v2^2*x1^9 - 4*(2*Q^2 + 2*a^2 + rs^2)*v2^2*x1^7 + 2*(4*rs*v2^2*x1^4 - 2*v2^2*x1^5 - 2*(2*Q^2 + 2*a^2 + rs^2)*v2^2*x1^3 + a^2*rs*v1^2 + (4*(Q^2 + a^2)*v2^2 - v1^2)*rs*x1^2 + 2*(Q^2*v1^2 - (Q^4 + 2*Q^2*a^2 + a^4)*v2^2)*x1)*a^4*cos(x2)^4 - 2*(7*rs*x1^6 - 4*x1^7 + (2*Q^2 + 15*a^2 - rs^2)*rs*x1^4 - 2*(3*Q^2 + 6*a^2 + rs^2)*x1^5 + (Q^4 + 2*Q^2*a^2 + a^4)*a^2*rs - (5*Q^4 - 4*Q^2*a^2 - 9*a^4 - a^2*rs^2)*rs*x1^2 - 4*(3*Q^2*a^2 + 3*a^4 - (Q^2 - a^2)*rs^2)*x1^3 + 2*(Q^6 - 3*Q^2*a^4 - 2*a^6 - (Q^2 + a^2)*a^2*rs^2)*x1)*a^2*v3^2*sin(x2)^4 + 2*(4*(Q^2 + a^2)*v2^2 + v0^2 - v1^2)*rs*x1^6 - (a^2*cos(2*x2) + a^2 + 2*x1^2)^2*(Q^2 + a^2 - rs*x1 + x1^2)*a^2*v1*v2*sin(2*x2) - 4*(Q^4 + 2*Q^2*a^2 + a^4)*Q^2*v0^2*x1 + 2*(5*Q^4 + 6*Q^2*a^2 + a^4)*rs*v0^2*x1^2 - 4*(2*Q^4 + 2*Q^2*a^2 + (2*Q^2 + a^2)*rs^2)*v0^2*x1^3 + 2*(a^2*v1^2 + (6*Q^2 + 2*a^2 + rs^2)*v0^2)*rs*x1^4 + 4*(Q^2*v1^2 - (Q^2 + rs^2)*v0^2 - (Q^4 + 2*Q^2*a^2 + a^4)*v2^2)*x1^5 + 2*(8*rs*v2^2*x1^6 - 4*v2^2*x1^7 - 4*(2*Q^2 + 2*a^2 + rs^2)*v2^2*x1^5 + 2*(Q^2 + a^2)*rs^2*v0^2*x1 + (8*(Q^2 + a^2)*v2^2 - v0^2 - 2*v1^2)*rs*x1^4 - (Q^4 + 2*Q^2*a^2 + a^4)*rs*v0^2 + (2*a^2*v1^2 - (2*Q^2 + 2*a^2 + rs^2)*v0^2)*rs*x1^2 + 2*(rs^2*v0^2 + 2*Q^2*v1^2 - 2*(Q^4 + 2*Q^2*a^2 + a^4)*v2^2)*x1^3)*a^2*cos(x2)^2 - 2*(a^6*(rs - 2*x1)*v1^2*cos(x2)^4 - 4*rs*v3^2*x1^8 + 2*v3^2*x1^9 + 2*(2*Q^2 + 4*a^2 + rs^2)*v3^2*x1^7 + 2*(a*v0 - 2*(Q^2 + 3*a^2)*v3)*rs*v3*x1^6 - (4*(2*Q^2 + 3*a^2)*a*v3^2 - a*v1^2 - 2*(6*Q^2 + 2*a^2 + rs^2)*v0*v3)*a*rs*x1^4 - 2*(2*(Q^2 + a^2)*a^3*v3 - (5*Q^4 + 6*Q^2*a^2 + a^4)*v0)*a*rs*v3*x1^2 + 2*((2*Q^4 + 6*Q^2*a^2 + 4*a^4 + a^2*rs^2)*a*v3 - 2*(2*Q^4 + 2*Q^2*a^2 + (2*Q^2 + a^2)*rs^2)*v0)*a*v3*x1^3 - 2*(a^2*v1^2 + 2*(Q^2 + rs^2)*a*v0*v3 - (Q^4 + 6*Q^2*a^2 + 6*a^4 + 2*a^2*rs^2)*v3^2)*x1^5 - 2*(rs*v0*v3*x1^4 - 2*(Q^2 + a^2)*rs^2*v0*v3*x1 + (Q^4 + 2*Q^2*a^2 + a^4)*rs*v0*v3 - (a*v1^2 - (2*Q^2 + 2*a^2 + rs^2)*v0*v3)*rs*x1^2 - 2*(rs^2*v0*v3 - a*v1^2)*x1^3)*a^3*cos(x2)^2 + 2*(Q^4 + 2*Q^2*a^2 + a^4)*(a^3*v3 - 2*Q^2*v0)*a*v3*x1)*sin(x2)^2)/((a^2*cos(x2)^2 + x1^2)^3*(Q^2 + a^2 - rs*x1 + x1^2))"
      ]
     },
     "metadata": {},
     "output_type": "display_data"
    },
    {
     "name": "stdout",
     "output_type": "stream",
     "text": [
      "<class 'sympy.core.mul.Mul'>\n",
      "\n",
      "\n"
     ]
    },
    {
     "data": {
      "text/plain": [
       "-(2*(Q^2 + a^2 - rs*x1 + x1^2)*a^4*v1*v2*x1*cos(x2)^4 + 4*(Q^2 + a^2 - rs*x1 + x1^2)*a^2*v1*v2*x1^3*cos(x2)^2 - 2*rs*v1*v2*x1^6 + 2*v1*v2*x1^7 + 2*(Q^2 + a^2)*v1*v2*x1^5 + (rs*v3^2*x1^7 - v3^2*x1^8 + (Q^2 + a^2)*Q^2*a^4*v3^2 + (2*rs*v3^2*x1^3 - v3^2*x1^4 - (Q^2 + a^2)*a^2*v2^2 + a^2*v1^2 - (Q^4 + 2*Q^2*a^2 + a^4)*v3^2 + (a^2*v2^2 + 2*(Q^2 + a^2)*v3^2)*rs*x1 - (a^2*v2^2 + (2*Q^2 + 2*a^2 + rs^2)*v3^2)*x1^2)*a^4*cos(x2)^4 - 2*(Q^2 + a^2)*Q^2*a^3*v0*v3 + (a*v2^2 - a*v3^2 + 2*v0*v3)*a*rs*x1^5 + (Q^2 + a^2)*Q^2*a^2*v0^2 - (a^2*v2^2 + (Q^2 + 2*a^2)*v3^2)*x1^6 + 2*(2*rs*v3^2*x1^3 - v3^2*x1^4 - (Q^2 + a^2)*a^2*v2^2 + a^2*v1^2 - (Q^4 + 2*Q^2*a^2 + a^4)*v3^2 + (a^2*v2^2 + 2*(Q^2 + a^2)*v3^2)*rs*x1 - (a^2*v2^2 + (2*Q^2 + 2*a^2 + rs^2)*v3^2)*x1^2)*a^2*x1^2*cos(x2)^2 - (a^2*v3^2 - 2*a*v0*v3 + v0^2)*(2*Q^2 + a^2)*a^2*rs*x1 - ((4*Q^2 + 3*a^2)*a*v3^2 + a*v0^2 - 4*(Q^2 + a^2)*v0*v3)*a*rs*x1^3 - ((Q^2 + a^2)*a*v2^2 - (Q^2 - a^2 + 2*rs^2)*a*v3^2 - a*v1^2 + 2*(Q^2 + rs^2)*v0*v3)*a*x1^4 + ((Q^2 + rs^2)*a*v0^2 + (2*Q^4 + 3*Q^2*a^2 + a^2*rs^2)*a*v3^2 - 2*(Q^4 + 2*Q^2*a^2 + a^2*rs^2)*v0*v3)*a*x1^2)*cos(x2)*sin(x2))/((a^2*cos(x2)^2 + x1^2)^3*(Q^2 + a^2 - rs*x1 + x1^2))"
      ]
     },
     "metadata": {},
     "output_type": "display_data"
    },
    {
     "name": "stdout",
     "output_type": "stream",
     "text": [
      "<class 'sympy.core.mul.Mul'>\n",
      "\n",
      "\n"
     ]
    }
   ],
   "source": [
    "for i in range(4):\n",
    "    #dx[i]=dx[i].expr('sympy')\n",
    "    dx[i]=(dx[i].simplify())\n",
    "    dx[i]=dx[i].subs([(t,x0),(x,x1),(y,x2),(z,x3)])\n",
    "    display(dx[i]._sage_())\n",
    "    print(type(dx[i]))\n",
    "    print(\"\\n\")"
   ]
  },
  {
   "cell_type": "code",
   "execution_count": null,
   "metadata": {},
   "outputs": [],
   "source": [
    "from sympy import *\n",
    "from sympy.codegen.rewriting import optimize, optims_c99\n",
    "from sympy.codegen.rewriting import ReplaceOptim\n",
    "from sympy.codegen.rewriting import create_expand_pow_optimization\n",
    "\n",
    "ax = var('x')\n",
    "asd=3*exp(2*ax) - ax**3\n",
    "asd=optimize(asd, optims_c99)\n",
    "\n",
    "expand_opt = create_expand_pow_optimization(100)\n",
    "\n",
    "#print(expand_opt(asd))\n",
    "\n",
    "#for i in range(4):\n",
    "    #dx[i]=expand_opt(optimize((simplify(dx[i].expr('sympy')).subs([(t,x0),(x,x1),(y,x2),(z,x3)])), optims_c99))\n",
    "    #print(dx[i])\n"
   ]
  },
  {
   "cell_type": "code",
   "execution_count": null,
   "metadata": {
    "scrolled": false
   },
   "outputs": [],
   "source": [
    "for i in range(4):\n",
    "    #optimize(dx[i],optims_c99)\n",
    "    #a=ccode((dx[i]),standard='C99')\n",
    "    a=ccode(dx[i],standard='C99',user_functions={'Pow': [(lambda x, y: y.is_integer, 'pown'),(lambda x, y: not y.is_integer, 'pow')]})\n",
    "    \n",
    "    \n",
    "    a=a.replace(\"x0\",\"x[0]\")\n",
    "    a=a.replace(\"x1\",\"x[1]\")\n",
    "    a=a.replace(\"x2\",\"x[2]\")\n",
    "    a=a.replace(\"x3\",\"x[3]\")\n",
    "    \n",
    "    a=a.replace(\"v0\",\"v[0]\")\n",
    "    a=a.replace(\"v1\",\"v[1]\")\n",
    "    a=a.replace(\"v2\",\"v[2]\")\n",
    "    a=a.replace(\"v3\",\"v[3]\")\n",
    "    \n",
    "    print(\"ch[\",i,\"]=\",a,\";\\n\")"
   ]
  },
  {
   "cell_type": "code",
   "execution_count": null,
   "metadata": {},
   "outputs": [],
   "source": []
  },
  {
   "cell_type": "code",
   "execution_count": null,
   "metadata": {},
   "outputs": [],
   "source": [
    "for i in range(4):\n",
    "    #optimize(dx[i],optims_c99)\n",
    "    \n",
    "    a=ccode(dx[i],standard='C99', user_functions={'Pow': [(lambda x,y: (y==-1), lambda x,y: '1.0/('+x+')' ),(lambda x,y: (y.is_integer and y<0 and y!=-1), lambda x,y: '1.0/('+'*'.join(['('+x+')']*(-int(y)))+')'),(lambda x, y: (y.is_integer and y>0), lambda x, y: '*'.join(['('+x+')']*int(y))),(lambda x, y: not y.is_integer, 'pow')]})\n",
    "    \n",
    "    \n",
    "    \n",
    "    a=a.replace(\"x0\",\"x[0]\")\n",
    "    a=a.replace(\"x1\",\"x[1]\")\n",
    "    a=a.replace(\"x2\",\"x[2]\")\n",
    "    a=a.replace(\"x3\",\"x[3]\")\n",
    "    \n",
    "    a=a.replace(\"v0\",\"v[0]\")\n",
    "    a=a.replace(\"v1\",\"v[1]\")\n",
    "    a=a.replace(\"v2\",\"v[2]\")\n",
    "    a=a.replace(\"v3\",\"v[3]\")\n",
    "    \n",
    "    print(\"ch[\",i,\"]=\",a,\";\\n\")"
   ]
  },
  {
   "cell_type": "code",
   "execution_count": null,
   "metadata": {},
   "outputs": [],
   "source": []
  },
  {
   "cell_type": "code",
   "execution_count": null,
   "metadata": {},
   "outputs": [],
   "source": []
  },
  {
   "cell_type": "code",
   "execution_count": null,
   "metadata": {},
   "outputs": [],
   "source": [
    "#Ricci_skalar = g.ricci_scalar()\n",
    "#Ricci_skalar.display()"
   ]
  },
  {
   "cell_type": "code",
   "execution_count": null,
   "metadata": {},
   "outputs": [],
   "source": [
    "#riem = nab.riemann(); riem\n",
    "#riem.display_comp()"
   ]
  },
  {
   "cell_type": "code",
   "execution_count": null,
   "metadata": {},
   "outputs": [],
   "source": [
    "#R_fl=riem['^i_jkl']*ginv['^jp']\n",
    "#R_fl.display_comp()"
   ]
  },
  {
   "cell_type": "code",
   "execution_count": null,
   "metadata": {},
   "outputs": [],
   "source": [
    "#K=[R_fl]\n",
    "#for i in range(5):\n",
    "#    K.append(K[i]['^ij_pq']*R_fl['^pq_kl'])\n",
    "#    print((K[i]['^ij_ij']).display())\n",
    "    "
   ]
  },
  {
   "cell_type": "code",
   "execution_count": null,
   "metadata": {},
   "outputs": [],
   "source": []
  },
  {
   "cell_type": "code",
   "execution_count": null,
   "metadata": {},
   "outputs": [],
   "source": []
  }
 ],
 "metadata": {
  "kernelspec": {
   "display_name": "SageMath 9.3",
   "language": "sage",
   "name": "sagemath"
  },
  "language_info": {
   "codemirror_mode": {
    "name": "ipython",
    "version": 3
   },
   "file_extension": ".py",
   "mimetype": "text/x-python",
   "name": "python",
   "nbconvert_exporter": "python",
   "pygments_lexer": "ipython3",
   "version": "3.7.10"
  }
 },
 "nbformat": 4,
 "nbformat_minor": 4
}
