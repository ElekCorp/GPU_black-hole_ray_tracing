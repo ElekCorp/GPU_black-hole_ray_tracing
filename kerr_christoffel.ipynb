{
 "cells": [
  {
   "cell_type": "code",
   "execution_count": 1,
   "id": "fa27e213-791e-4c7f-be2a-a5fa9afe2f1e",
   "metadata": {},
   "outputs": [],
   "source": [
    "from sympy.diffgeom.rn import R2\n",
    "from sympy.diffgeom import metric_to_Christoffel_2nd, TensorProduct, metric_to_Riemann_components,twoform_to_matrix,metric_to_Christoffel_1st\n",
    "TP = TensorProduct"
   ]
  },
  {
   "cell_type": "code",
   "execution_count": 2,
   "id": "05ab83a3-e6f1-44f2-84c2-3ec7cabf3426",
   "metadata": {},
   "outputs": [
    {
     "data": {
      "text/latex": [
       "$\\displaystyle \\left[\\begin{matrix}\\left[\\begin{matrix}0 & 0\\\\0 & 0\\end{matrix}\\right] & \\left[\\begin{matrix}0 & 0\\\\0 & 0\\end{matrix}\\right]\\end{matrix}\\right]$"
      ],
      "text/plain": [
       "[[[0, 0], [0, 0]], [[0, 0], [0, 0]]]"
      ]
     },
     "execution_count": 2,
     "metadata": {},
     "output_type": "execute_result"
    }
   ],
   "source": [
    "metric_to_Christoffel_2nd(TP(R2.dx, R2.dx) + TP(R2.dy, R2.dy))"
   ]
  },
  {
   "cell_type": "code",
   "execution_count": 3,
   "id": "abd0eeaf-37b6-4891-95a2-4ee09f38a32d",
   "metadata": {},
   "outputs": [
    {
     "data": {
      "text/latex": [
       "$\\displaystyle \\left[\\begin{matrix}\\left[\\begin{matrix}\\frac{1}{2 \\mathbf{x}} & 0\\\\0 & 0\\end{matrix}\\right] & \\left[\\begin{matrix}0 & 0\\\\0 & 0\\end{matrix}\\right]\\end{matrix}\\right]$"
      ],
      "text/plain": [
       "[[[1/(2*x), 0], [0, 0]], [[0, 0], [0, 0]]]"
      ]
     },
     "execution_count": 3,
     "metadata": {},
     "output_type": "execute_result"
    }
   ],
   "source": [
    "metric_to_Christoffel_2nd(R2.x*TP(R2.dx, R2.dx) + TP(R2.dy, R2.dy))"
   ]
  },
  {
   "cell_type": "code",
   "execution_count": 4,
   "id": "a46c7535-edfb-47b2-b7ab-2fd549be4ecb",
   "metadata": {},
   "outputs": [],
   "source": [
    "from sympy import symbols, pi, sqrt, atan2, cos, sin\n",
    "from sympy.diffgeom import Manifold, Patch, CoordSystem\n",
    "m = Manifold('M', 4)\n",
    "p = Patch('P', m)\n",
    "tt, xt, yt, zt = symbols('t x y z', real=True)\n",
    "a, Q, rs = symbols('a Q rs')\n",
    "#a=0\n",
    "#Q=0\n",
    "\n",
    "coordinates=CoordSystem(\"kerr\",p,symbols=(tt, xt, yt, zt))\n",
    "\n",
    "t, x, y, z=coordinates.base_scalars()"
   ]
  },
  {
   "cell_type": "code",
   "execution_count": 5,
   "id": "2aa1ab20-4b72-4e75-94e0-7c673c76c416",
   "metadata": {},
   "outputs": [],
   "source": [
    "m=rs/2\n",
    "r=x\n",
    "delta=r**2-2*m*r+a**2+Q**2\n",
    "rho2=r**2+(a**2)*(cos(y)**2)"
   ]
  },
  {
   "cell_type": "code",
   "execution_count": 6,
   "id": "d06aa747-2ba2-43ed-a365-3fba4357f761",
   "metadata": {},
   "outputs": [],
   "source": [
    "dxi=coordinates.base_oneforms()"
   ]
  },
  {
   "cell_type": "code",
   "execution_count": 7,
   "id": "d2907146-66af-4cf9-b444-e36353922029",
   "metadata": {},
   "outputs": [],
   "source": [
    "dx=dxi"
   ]
  },
  {
   "cell_type": "code",
   "execution_count": 8,
   "id": "cf3adc4b-aae4-4107-b5e9-f78cbcf63840",
   "metadata": {},
   "outputs": [
    {
     "data": {
      "text/plain": [
       "[dt, dx, dy, dz]"
      ]
     },
     "execution_count": 8,
     "metadata": {},
     "output_type": "execute_result"
    }
   ],
   "source": [
    "dx"
   ]
  },
  {
   "cell_type": "code",
   "execution_count": 9,
   "id": "6fabafa4-9f3a-4c95-8dd9-0f44511bbba2",
   "metadata": {},
   "outputs": [],
   "source": [
    "from sympy import Matrix\n",
    "g =  Matrix([\n",
    "    [0, 0, 0, 0],\n",
    "    [0, 0, 0, 0],\n",
    "    [0, 0, 0, 0],\n",
    "    [0, 0, 0,0]\n",
    "])"
   ]
  },
  {
   "cell_type": "code",
   "execution_count": 10,
   "id": "d704164f-ebb4-424e-bc5e-79f4f8a2a393",
   "metadata": {},
   "outputs": [
    {
     "data": {
      "text/latex": [
       "$\\displaystyle \\left[\\begin{matrix}\\frac{- rs \\mathbf{x} + \\mathbf{x}^{2}}{\\mathbf{x}^{2}} & 0 & 0 & 0\\\\0 & - \\frac{\\mathbf{x}^{2}}{- rs \\mathbf{x} + \\mathbf{x}^{2}} & 0 & 0\\\\0 & 0 & - \\mathbf{x}^{2} & 0\\\\0 & 0 & 0 & - \\sin^{2}{\\left(\\mathbf{y} \\right)} \\mathbf{x}^{2}\\end{matrix}\\right]$"
      ],
      "text/plain": [
       "Matrix([\n",
       "[(-rs*x + x**2)/x**2,                    0,     0,               0],\n",
       "[                  0, -x**2/(-rs*x + x**2),     0,               0],\n",
       "[                  0,                    0, -x**2,               0],\n",
       "[                  0,                    0,     0, -sin(y)**2*x**2]])"
      ]
     },
     "execution_count": 10,
     "metadata": {},
     "output_type": "execute_result"
    }
   ],
   "source": [
    "g[0,0]=-a**2*sin(y)**2/rho2+delta/rho2\n",
    "g[1,1]=-rho2/delta\n",
    "g[2,2]=-rho2\n",
    "g[3,3]=(delta*a**2*sin(y)**4-a**4*sin(y)**2-2*a**2*r**2*sin(y)**2-r**4*sin(y)**2)/rho2\n",
    "g[0,3]=(a**3*sin(y)**2+a*r**2*sin(y)**2-delta*a*sin(y)**2)/rho2\n",
    "g[3,0]=g[0,3]\n",
    "g"
   ]
  },
  {
   "cell_type": "code",
   "execution_count": 11,
   "id": "ad45ac8c-23a0-4538-861b-6f82eedad606",
   "metadata": {},
   "outputs": [
    {
     "data": {
      "text/latex": [
       "$\\displaystyle \\frac{\\left(- rs \\mathbf{x} + \\mathbf{x}^{2}\\right) \\operatorname{d}t \\otimes \\operatorname{d}t}{\\mathbf{x}^{2}} - \\sin^{2}{\\left(\\mathbf{y} \\right)} \\mathbf{x}^{2} \\operatorname{d}z \\otimes \\operatorname{d}z - \\mathbf{x}^{2} \\operatorname{d}y \\otimes \\operatorname{d}y - \\frac{\\mathbf{x}^{2} \\operatorname{d}x \\otimes \\operatorname{d}x}{- rs \\mathbf{x} + \\mathbf{x}^{2}}$"
      ],
      "text/plain": [
       "(-rs*x + x**2)*TensorProduct(dt, dt)/x**2 - sin(y)**2*x**2*TensorProduct(dz, dz) - x**2*TensorProduct(dy, dy) - x**2*TensorProduct(dx, dx)/(-rs*x + x**2)"
      ]
     },
     "execution_count": 11,
     "metadata": {},
     "output_type": "execute_result"
    }
   ],
   "source": [
    "metric=0\n",
    "for i in range(4):\n",
    "    for j in range(4):\n",
    "        metric+=g[i,j]*TP(dx[i],dx[j])\n",
    "metric"
   ]
  },
  {
   "cell_type": "code",
   "execution_count": 12,
   "id": "1b013daf-36eb-482a-8371-16ca2889a7db",
   "metadata": {},
   "outputs": [
    {
     "data": {
      "text/latex": [
       "$\\displaystyle \\left[\\begin{matrix}- \\frac{rs}{\\mathbf{x}} + 1 & 0 & 0 & 0\\\\0 & - \\frac{\\mathbf{x}^{2}}{- rs \\mathbf{x} + \\mathbf{x}^{2}} & 0 & 0\\\\0 & 0 & - \\mathbf{x}^{2} & 0\\\\0 & 0 & 0 & - \\sin^{2}{\\left(\\mathbf{y} \\right)} \\mathbf{x}^{2}\\end{matrix}\\right]$"
      ],
      "text/plain": [
       "Matrix([\n",
       "[-rs/x + 1,                    0,     0,               0],\n",
       "[        0, -x**2/(-rs*x + x**2),     0,               0],\n",
       "[        0,                    0, -x**2,               0],\n",
       "[        0,                    0,     0, -sin(y)**2*x**2]])"
      ]
     },
     "execution_count": 12,
     "metadata": {},
     "output_type": "execute_result"
    }
   ],
   "source": [
    "twoform_to_matrix(metric)"
   ]
  },
  {
   "cell_type": "code",
   "execution_count": 13,
   "id": "e686b8ab-942e-4bf5-b6f5-f7881f9cd031",
   "metadata": {},
   "outputs": [
    {
     "data": {
      "text/latex": [
       "$\\displaystyle \\left[\\begin{matrix}\\left[\\begin{matrix}0 & \\frac{rs}{2 \\left(- rs + \\mathbf{x}\\right) \\mathbf{x}} & 0 & 0\\\\\\frac{rs}{2 \\left(- rs + \\mathbf{x}\\right) \\mathbf{x}} & 0 & 0 & 0\\\\0 & 0 & 0 & 0\\\\0 & 0 & 0 & 0\\end{matrix}\\right] & \\left[\\begin{matrix}- \\frac{rs \\left(rs - \\mathbf{x}\\right)}{2 \\mathbf{x}^{3}} & 0 & 0 & 0\\\\0 & \\frac{\\left(rs - \\mathbf{x}\\right) \\left(- \\frac{\\left(rs - 2 \\mathbf{x}\\right) \\mathbf{x}^{2}}{2 \\left(- rs \\mathbf{x} + \\mathbf{x}^{2}\\right)^{2}} - \\frac{\\mathbf{x}}{- rs \\mathbf{x} + \\mathbf{x}^{2}}\\right)}{\\mathbf{x}} & 0 & 0\\\\0 & 0 & rs - \\mathbf{x} & 0\\\\0 & 0 & 0 & \\left(rs - \\mathbf{x}\\right) \\sin^{2}{\\left(\\mathbf{y} \\right)}\\end{matrix}\\right] & \\left[\\begin{matrix}0 & 0 & 0 & 0\\\\0 & 0 & \\frac{1}{\\mathbf{x}} & 0\\\\0 & \\frac{1}{\\mathbf{x}} & 0 & 0\\\\0 & 0 & 0 & - \\sin{\\left(\\mathbf{y} \\right)} \\cos{\\left(\\mathbf{y} \\right)}\\end{matrix}\\right] & \\left[\\begin{matrix}0 & 0 & 0 & 0\\\\0 & 0 & 0 & \\frac{1}{\\mathbf{x}}\\\\0 & 0 & 0 & \\frac{\\cos{\\left(\\mathbf{y} \\right)}}{\\sin{\\left(\\mathbf{y} \\right)}}\\\\0 & \\frac{1}{\\mathbf{x}} & \\frac{\\cos{\\left(\\mathbf{y} \\right)}}{\\sin{\\left(\\mathbf{y} \\right)}} & 0\\end{matrix}\\right]\\end{matrix}\\right]$"
      ],
      "text/plain": [
       "[[[0, rs/(2*(-rs + x)*x), 0, 0], [rs/(2*(-rs + x)*x), 0, 0, 0], [0, 0, 0, 0], [0, 0, 0, 0]], [[-rs*(rs - x)/(2*x**3), 0, 0, 0], [0, (rs - x)*(-(rs - 2*x)*x**2/(2*(-rs*x + x**2)**2) - x/(-rs*x + x**2))/x, 0, 0], [0, 0, rs - x, 0], [0, 0, 0, (rs - x)*sin(y)**2]], [[0, 0, 0, 0], [0, 0, 1/x, 0], [0, 1/x, 0, 0], [0, 0, 0, -sin(y)*cos(y)]], [[0, 0, 0, 0], [0, 0, 0, 1/x], [0, 0, 0, cos(y)/sin(y)], [0, 1/x, cos(y)/sin(y), 0]]]"
      ]
     },
     "execution_count": 13,
     "metadata": {},
     "output_type": "execute_result"
    }
   ],
   "source": [
    "ch=metric_to_Christoffel_2nd(metric)\n",
    "ch"
   ]
  },
  {
   "cell_type": "code",
   "execution_count": 14,
   "id": "6ba2ce78-9755-4a5c-aa99-41a542932ddc",
   "metadata": {},
   "outputs": [],
   "source": [
    "dx_res=[0,0,0,0]\n",
    "\n",
    "v0=symbols(\"v0\")\n",
    "v1=symbols(\"v1\")\n",
    "v2=symbols(\"v2\")\n",
    "v3=symbols(\"v3\")\n",
    "\n",
    "vx=[v0,v1,v2,v3]\n",
    "\n",
    "for i in range(4):\n",
    "    for j in range(4):\n",
    "        for k in range(4):\n",
    "            dx_res[i]-=ch[i,j,k]*vx[j]*vx[k]\n"
   ]
  },
  {
   "cell_type": "code",
   "execution_count": 15,
   "id": "0a2f11a5-9b5a-4380-94c0-caf84449062d",
   "metadata": {},
   "outputs": [],
   "source": [
    "for i in range(4):\n",
    "    dx_res[0]=dx_res[0].simplify()\n",
    "#dx_res=Matrix(dx_res)"
   ]
  },
  {
   "cell_type": "code",
   "execution_count": 22,
   "id": "c61a51f5-e764-4651-ba50-673c759cd3f7",
   "metadata": {},
   "outputs": [],
   "source": [
    "from sympy import cse, ccode, fcode, pycode, MatrixSymbol\n",
    "def c_code(expr):\n",
    "    return ccode(cse(expr))"
   ]
  },
  {
   "cell_type": "code",
   "execution_count": 24,
   "id": "82314088-4453-4c77-924a-fe7860b90dde",
   "metadata": {},
   "outputs": [
    {
     "name": "stdout",
     "output_type": "stream",
     "text": [
      "x0 = rs*v0*v1/((rs - x)*x);\n",
      "x1 = (1.0/2.0)*rs*pow(v0, 2)*(rs - x)/pow(x, 3) - pow(v1, 2)*(rs - x)*(-1.0/2.0*(rs - 2*x)*pow(x, 2)/pow(-rs*x + pow(x, 2), 2) - x/(-rs*x + pow(x, 2)))/x - pow(v2, 2)*(rs - x) - pow(v3, 2)*(rs - x)*pow(sin(y), 2);\n",
      "x2 = -2*v1*v2/x + pow(v3, 2)*sin(y)*cos(y);\n",
      "x3 = -2*v1*v3/x - 2*v2*v3*cos(y)/sin(y);\n"
     ]
    }
   ],
   "source": [
    "from sympy.codegen.ast import CodeBlock, Assignment\n",
    "x0, x1, x2, x3 = symbols('x0 x1 x2 x3')\n",
    "c = CodeBlock(Assignment(x0, dx_res[0]),Assignment(x1, dx_res[1]),Assignment(x2, dx_res[2]),Assignment(x3, dx_res[3]))\n",
    "print(ccode(c))"
   ]
  },
  {
   "cell_type": "code",
   "execution_count": 29,
   "id": "40d69cef-468e-4fc9-b6e9-e7629a383838",
   "metadata": {},
   "outputs": [
    {
     "name": "stdout",
     "output_type": "stream",
     "text": [
      "x0 = -2*v1*v2/x + pow(v3, 2)*sin(y)*cos(y);\n"
     ]
    }
   ],
   "source": [
    "c2 = CodeBlock(Assignment(x0, dx_res[2]))\n",
    "print(ccode(c2))"
   ]
  },
  {
   "cell_type": "code",
   "execution_count": 26,
   "id": "b93c09b3-bcda-475d-8387-919e841f439e",
   "metadata": {},
   "outputs": [
    {
     "data": {
      "text/latex": [
       "$\\displaystyle \\frac{rs v_{0} v_{1}}{\\left(rs - \\mathbf{x}\\right) \\mathbf{x}}$"
      ],
      "text/plain": [
       "rs*v0*v1/((rs - x)*x)"
      ]
     },
     "metadata": {},
     "output_type": "display_data"
    },
    {
     "data": {
      "text/latex": [
       "$\\displaystyle \\frac{rs v_{0}^{2} \\left(rs - \\mathbf{x}\\right)}{2 \\mathbf{x}^{3}} - \\frac{v_{1}^{2} \\left(rs - \\mathbf{x}\\right) \\left(- \\frac{\\left(rs - 2 \\mathbf{x}\\right) \\mathbf{x}^{2}}{2 \\left(- rs \\mathbf{x} + \\mathbf{x}^{2}\\right)^{2}} - \\frac{\\mathbf{x}}{- rs \\mathbf{x} + \\mathbf{x}^{2}}\\right)}{\\mathbf{x}} - v_{2}^{2} \\left(rs - \\mathbf{x}\\right) - v_{3}^{2} \\left(rs - \\mathbf{x}\\right) \\sin^{2}{\\left(\\mathbf{y} \\right)}$"
      ],
      "text/plain": [
       "rs*v0**2*(rs - x)/(2*x**3) - v1**2*(rs - x)*(-(rs - 2*x)*x**2/(2*(-rs*x + x**2)**2) - x/(-rs*x + x**2))/x - v2**2*(rs - x) - v3**2*(rs - x)*sin(y)**2"
      ]
     },
     "metadata": {},
     "output_type": "display_data"
    },
    {
     "data": {
      "text/latex": [
       "$\\displaystyle - \\frac{2 v_{1} v_{2}}{\\mathbf{x}} + v_{3}^{2} \\sin{\\left(\\mathbf{y} \\right)} \\cos{\\left(\\mathbf{y} \\right)}$"
      ],
      "text/plain": [
       "-2*v1*v2/x + v3**2*sin(y)*cos(y)"
      ]
     },
     "metadata": {},
     "output_type": "display_data"
    },
    {
     "data": {
      "text/latex": [
       "$\\displaystyle - \\frac{2 v_{1} v_{3}}{\\mathbf{x}} - \\frac{2 v_{2} v_{3} \\cos{\\left(\\mathbf{y} \\right)}}{\\sin{\\left(\\mathbf{y} \\right)}}$"
      ],
      "text/plain": [
       "-2*v1*v3/x - 2*v2*v3*cos(y)/sin(y)"
      ]
     },
     "metadata": {},
     "output_type": "display_data"
    }
   ],
   "source": [
    "for i in range(4):\n",
    "    display(dx_res[i])"
   ]
  },
  {
   "cell_type": "code",
   "execution_count": 114,
   "id": "7f048903-06ce-4fce-b8bc-6c787e918f44",
   "metadata": {},
   "outputs": [
    {
     "ename": "TypeError",
     "evalue": "optimize() missing 1 required positional argument: 'optimizations'",
     "output_type": "error",
     "traceback": [
      "\u001b[31m---------------------------------------------------------------------------\u001b[39m",
      "\u001b[31mTypeError\u001b[39m                                 Traceback (most recent call last)",
      "\u001b[36mCell\u001b[39m\u001b[36m \u001b[39m\u001b[32mIn[114]\u001b[39m\u001b[32m, line 6\u001b[39m\n\u001b[32m      2\u001b[39m dx_resm=Matrix(dx_res)\n\u001b[32m      4\u001b[39m \u001b[38;5;28;01mfrom\u001b[39;00m\u001b[38;5;250m \u001b[39m\u001b[34;01msympy\u001b[39;00m\u001b[34;01m.\u001b[39;00m\u001b[34;01mcodegen\u001b[39;00m\u001b[34;01m.\u001b[39;00m\u001b[34;01mrewriting\u001b[39;00m\u001b[38;5;250m \u001b[39m\u001b[38;5;28;01mimport\u001b[39;00m optimize\n\u001b[32m----> \u001b[39m\u001b[32m6\u001b[39m \u001b[43moptimize\u001b[49m\u001b[43m(\u001b[49m\u001b[43mdx_resm\u001b[49m\u001b[43m)\u001b[49m\n\u001b[32m      8\u001b[39m \u001b[38;5;28mprint\u001b[39m(ccode(dx_resm,A))\n",
      "\u001b[31mTypeError\u001b[39m: optimize() missing 1 required positional argument: 'optimizations'"
     ]
    }
   ],
   "source": [
    "A = MatrixSymbol('A', 4, 1)\n",
    "dx_resm=Matrix(dx_res)\n",
    "\n",
    "from sympy.codegen.rewriting import optimize\n",
    "\n",
    "optimize(dx_resm)\n",
    "\n",
    "print(ccode(dx_resm,A))"
   ]
  },
  {
   "cell_type": "code",
   "execution_count": 77,
   "id": "f108668d-8d85-4819-b916-635b7c1bb7d3",
   "metadata": {},
   "outputs": [
    {
     "data": {
      "text/plain": [
       "'{rs*v0*v1/((rs - x)*x), (1.0/2.0)*rs*pow(v0, 2)*(rs - x)/pow(x, 3) - pow(v1, 2)*(rs - x)*(-1.0/2.0*(rs - 2*x)*pow(x, 2)/pow(-rs*x + pow(x, 2), 2) - x/(-rs*x + pow(x, 2)))/x - pow(v2, 2)*(rs - x) - pow(v3, 2)*(rs - x)*pow(sin(y), 2), -2*v1*v2/x + pow(v3, 2)*sin(y)*cos(y), -2*v1*v3/x - 2*v2*v3*cos(y)/sin(y)}'"
      ]
     },
     "execution_count": 77,
     "metadata": {},
     "output_type": "execute_result"
    }
   ],
   "source": [
    "ccode(dx_res)"
   ]
  },
  {
   "cell_type": "code",
   "execution_count": null,
   "id": "1c69f196-3dfc-4420-98f1-466a44d1933d",
   "metadata": {},
   "outputs": [],
   "source": []
  },
  {
   "cell_type": "code",
   "execution_count": null,
   "id": "7b9b9133-9514-4278-9e07-fbe4230c67c8",
   "metadata": {},
   "outputs": [],
   "source": []
  },
  {
   "cell_type": "code",
   "execution_count": null,
   "id": "c0d2c7bd-5bc5-41e5-82c6-9888d6a3cb57",
   "metadata": {},
   "outputs": [],
   "source": []
  },
  {
   "cell_type": "code",
   "execution_count": 17,
   "id": "29c3fbca-a65e-4e3a-8538-84d22be1557a",
   "metadata": {},
   "outputs": [],
   "source": [
    "#metric_to_Riemann_components(metric)"
   ]
  },
  {
   "cell_type": "code",
   "execution_count": null,
   "id": "863f05fe-0cfe-4b8a-93b6-2c0f6ee6d0be",
   "metadata": {},
   "outputs": [],
   "source": []
  },
  {
   "cell_type": "code",
   "execution_count": null,
   "id": "9a85ea97-7ebb-4883-9e46-93f800836aad",
   "metadata": {},
   "outputs": [],
   "source": []
  },
  {
   "cell_type": "code",
   "execution_count": null,
   "id": "5ebd6ae7-3778-4ae1-a00f-ede560e0b35c",
   "metadata": {},
   "outputs": [],
   "source": []
  },
  {
   "cell_type": "code",
   "execution_count": null,
   "id": "6584b126-953b-4529-bd58-d4407d89530a",
   "metadata": {},
   "outputs": [],
   "source": []
  }
 ],
 "metadata": {
  "kernelspec": {
   "display_name": "Python 3 (ipykernel)",
   "language": "python",
   "name": "python3"
  },
  "language_info": {
   "codemirror_mode": {
    "name": "ipython",
    "version": 3
   },
   "file_extension": ".py",
   "mimetype": "text/x-python",
   "name": "python",
   "nbconvert_exporter": "python",
   "pygments_lexer": "ipython3",
   "version": "3.13.5"
  }
 },
 "nbformat": 4,
 "nbformat_minor": 5
}
